{
 "cells": [
  {
   "cell_type": "code",
   "execution_count": 1,
   "metadata": {},
   "outputs": [],
   "source": [
    "import pandas as pd\n",
    "import numpy as np\n",
    "import matplotlib.pyplot as plt\n",
    "%matplotlib inline\n",
    "import seaborn as sns"
   ]
  },
  {
   "cell_type": "markdown",
   "metadata": {},
   "source": [
    "# **linear regression**\n",
    "$$y = w_0 + w_1 x_1 + ... + w_p x_p$$ \n",
    "\n",
    "we must find $w_0, w_1, ... , w_p$\n",
    "\n",
    "$$min||Xw - y||_2^2$$"
   ]
  },
  {
   "cell_type": "markdown",
   "metadata": {},
   "source": [
    "### **calculation by hands**\n",
    "\n",
    "take five points and calculation linear regression by hands for this points.\n",
    "\n",
    "Points:\n",
    "1. (4, 6)\n",
    "2. (9, 7)\n",
    "3. (11, 11)\n",
    "4. (14, 9)\n",
    "5. (17, 13)\n",
    "\n",
    "find minimum for this function:\n",
    "\n",
    "$$F(w_1, w_0) = \\sum_5(y_i - (w_1 x_i + w_0))^2 = $$\n",
    "$$= (y_1 - (w_1 x_1 + w_0))^2 + \n",
    "  (y_2 - (w_1 x_2 + w_0))^2 + \n",
    "  (y_3 - (w_1 x_3 + w_0))^2 + \n",
    "  (y_4 - (w_1 x_4 + w_0))^2 + \n",
    "  (y_5 - (w_1 x_5 + w_0))^2 = $$\n",
    "  \n",
    "$$ = (6 - (w_1 \\cdot 4 + w_0))^2 + \n",
    "     (7 - (w_1 \\cdot 9 + w_0))^2 +\n",
    "     (11 - (w_1 \\cdot 11 + w_0))^2 + \n",
    "     (9 - (w_1 \\cdot 14 + w_0))^2 + \n",
    "     (13 - (w_1 \\cdot 17 + w_0))^2 = $$\n",
    "  \n",
    "$$ = 6^2 - 2 \\cdot 6 \\cdot (w_1 \\cdot 4 + w_0) + (w_1 \\cdot 4 + w_0)^2 + \n",
    "     7^2 - 2 \\cdot 7 \\cdot (w_1 \\cdot 9 + w_0) + (w_1 \\cdot 9 + w_0)^2 + \n",
    "     11^2 - 2 \\cdot 11 \\cdot (w_1 \\cdot 11 + w_0) + (w_1 \\cdot 11 + w_0)^2 + \n",
    "     9^2 - 2 \\cdot 9 \\cdot (w_1 \\cdot 14 + w_0) + (w_1 \\cdot 14 + w_0)^2 +\n",
    "     13^2 - 2 \\cdot 13 \\cdot (w_1 \\cdot 17 + w_0) + (w_1 \\cdot 17 + w_0)^2 = $$"
   ]
  },
  {
   "cell_type": "markdown",
   "metadata": {},
   "source": [
    "$$ = 36 + 49 + 121 + 81 + 169 - \n",
    "     48 \\cdot w_1 - 12 \\cdot w_0 -\n",
    "     126 \\cdot w_1 - 14 \\cdot w_0 - \n",
    "     242 \\cdot w_1 - 22 \\cdot w_0 -\n",
    "     252 \\cdot w_1 - 18 \\cdot w_0 - \n",
    "     442 \\cdot w_1 - 26 \\cdot w_0 +\n",
    "     (w_1 \\cdot 4 + w_0)^2 +\n",
    "     (w_1 \\cdot 9 + w_0)^2 +\n",
    "     (w_1 \\cdot 11 + w_0)^2 +\n",
    "     (w_1 \\cdot 14 + w_0)^2 +\n",
    "     (w_1 \\cdot 17 + w_0)^2 = $$"
   ]
  },
  {
   "cell_type": "markdown",
   "metadata": {},
   "source": [
    "$$= 456 - 1110 \\cdot w_1 - 92 \\cdot w_0 + \n",
    "    (w_1 \\cdot 4 + w_0)^2 +\n",
    "    (w_1 \\cdot 9 + w_0)^2 +\n",
    "    (w_1 \\cdot 11 + w_0)^2 +\n",
    "    (w_1 \\cdot 14 + w_0)^2 +\n",
    "    (w_1 \\cdot 17 + w_0)^2 = $$"
   ]
  },
  {
   "cell_type": "markdown",
   "metadata": {},
   "source": [
    "$$= 456 - 1110 \\cdot w_1 - 92 \\cdot w_0 + \n",
    "    16 \\cdot w_1^2 + 8 \\cdot w_1 \\cdot w_0 + w_0^2 +\n",
    "    81 \\cdot w_1^2 + 18 \\cdot w_1 \\cdot w_0 + w_0^2 +\n",
    "    121 \\cdot w_1^2 + 22 \\cdot w_1 \\cdot w_0 + w_0^2 +\n",
    "    196 \\cdot w_1^2 + 28 \\cdot w_1 \\cdot w_0 + w_0^2 +\n",
    "    289 \\cdot w_1^2 + 34 \\cdot w_1 \\cdot w_0 + w_0^2 =$$"
   ]
  },
  {
   "cell_type": "markdown",
   "metadata": {},
   "source": [
    "$$= 456 - 1110 \\cdot w_1 - 92 \\cdot w_0 + 703 \\cdot w_1^2 + 110 \\cdot w_1 \\cdot w_0 + 5 \\cdot w_0^2$$"
   ]
  },
  {
   "cell_type": "markdown",
   "metadata": {},
   "source": [
    "$$F(w_1, w_0) = 456 - 1110 \\cdot w_1 - 92 \\cdot w_0 + 703 \\cdot w_1^2 + 110 \\cdot w_1 \\cdot w_0 + 5 \\cdot w_0^2$$"
   ]
  },
  {
   "cell_type": "markdown",
   "metadata": {},
   "source": [
    "calculate partial derivatives for this function and equal each on zero:\n",
    "\n",
    "\\begin{equation*}\n",
    " \\begin{cases}\n",
    "   \\frac{\\partial F(w_1, w_0)}{\\partial w_1} = 0, \n",
    "   \\\\\n",
    "   \\frac{\\partial F(w_1, w_0)}{\\partial w_0} = 0.\n",
    " \\end{cases}\n",
    "\\end{equation*}"
   ]
  },
  {
   "cell_type": "markdown",
   "metadata": {},
   "source": [
    "\\begin{equation*}\n",
    " \\begin{cases}\n",
    "   \\frac{\\partial F(w_1, w_0)}{\\partial w_1} = - 1110 + 2 \\cdot 703 \\cdot w_1 + 110 \\cdot w_0 \n",
    "   \\\\\n",
    "   \\frac{\\partial F(w_1, w_0)}{\\partial w_0} = - 92 + 2 \\cdot 5 \\cdot w_0 + 110 \\cdot w_1\n",
    " \\end{cases}\n",
    "\\end{equation*}"
   ]
  },
  {
   "cell_type": "markdown",
   "metadata": {},
   "source": [
    "\\begin{equation*}\n",
    " \\begin{cases}\n",
    "   - 1110 + 2 \\cdot 703 \\cdot w_1 + 110 \\cdot w_0 = 0, \n",
    "   \\\\\n",
    "   - 92 + 2 \\cdot 5 \\cdot w_0 + 110 \\cdot w_1 = 0.\n",
    " \\end{cases}\n",
    "\\end{equation*}"
   ]
  },
  {
   "cell_type": "markdown",
   "metadata": {},
   "source": [
    "$$w_1 = 0.5$$\n",
    "$$w_0 = 3.7$$"
   ]
  },
  {
   "cell_type": "markdown",
   "metadata": {},
   "source": [
    "take equation of a straight line that approximates of that 5 points:\n",
    "$$y = w_1 \\cdot x + w_0 = 0.5 \\cdot x + 3.7$$"
   ]
  },
  {
   "cell_type": "code",
   "execution_count": null,
   "metadata": {},
   "outputs": [],
   "source": []
  },
  {
   "cell_type": "code",
   "execution_count": null,
   "metadata": {},
   "outputs": [],
   "source": []
  },
  {
   "cell_type": "code",
   "execution_count": null,
   "metadata": {},
   "outputs": [],
   "source": []
  },
  {
   "cell_type": "code",
   "execution_count": null,
   "metadata": {},
   "outputs": [],
   "source": []
  },
  {
   "cell_type": "code",
   "execution_count": null,
   "metadata": {},
   "outputs": [],
   "source": []
  },
  {
   "cell_type": "code",
   "execution_count": null,
   "metadata": {},
   "outputs": [],
   "source": []
  },
  {
   "cell_type": "markdown",
   "metadata": {},
   "source": [
    "# **Ridge**\n",
    "linear regression with Regularization:\n",
    "$$min||Xw - y||_2^2 + \\alpha ||w||_2^2$$"
   ]
  },
  {
   "cell_type": "code",
   "execution_count": 2,
   "metadata": {},
   "outputs": [],
   "source": [
    "from sklearn.linear_model import LinearRegression\n",
    "from sklearn.linear_model import Ridge\n",
    "from sklearn.linear_model import RidgeCV\n",
    "from sklearn.linear_model import Lasso\n",
    "from sklearn.linear_model import SGDRegressor"
   ]
  },
  {
   "cell_type": "code",
   "execution_count": 11,
   "metadata": {},
   "outputs": [],
   "source": [
    "model_LR = LinearRegression()"
   ]
  },
  {
   "cell_type": "code",
   "execution_count": 12,
   "metadata": {},
   "outputs": [
    {
     "data": {
      "text/plain": [
       "LinearRegression(copy_X=True, fit_intercept=True, n_jobs=None, normalize=False)"
      ]
     },
     "execution_count": 12,
     "metadata": {},
     "output_type": "execute_result"
    }
   ],
   "source": [
    "# 4, 9, 11, 14, 17 - X\n",
    "# 6, 7, 11, 9, 13 - y\n",
    "# y = w_1*x + w_0\n",
    "model_LR.fit([[4], [9], [11], [14], [17]], [6, 7, 11, 9, 13])"
   ]
  },
  {
   "cell_type": "code",
   "execution_count": 13,
   "metadata": {},
   "outputs": [
    {
     "data": {
      "text/plain": [
       "array([0.5])"
      ]
     },
     "execution_count": 13,
     "metadata": {},
     "output_type": "execute_result"
    }
   ],
   "source": [
    "# w_1\n",
    "model_LR.coef_"
   ]
  },
  {
   "cell_type": "code",
   "execution_count": 14,
   "metadata": {},
   "outputs": [
    {
     "data": {
      "text/plain": [
       "3.6999999999999984"
      ]
     },
     "execution_count": 14,
     "metadata": {},
     "output_type": "execute_result"
    }
   ],
   "source": [
    "# w_0\n",
    "model_LR.intercept_\n",
    "# y = 0.5*x + 3.7 "
   ]
  },
  {
   "cell_type": "code",
   "execution_count": 16,
   "metadata": {},
   "outputs": [
    {
     "data": {
      "image/png": "[encoded data removed]",
      "text/plain": [
       "<Figure size 1008x720 with 1 Axes>"
      ]
     },
     "metadata": {},
     "output_type": "display_data"
    }
   ],
   "source": [
    "plt.figure(figsize=(14,10))\n",
    "sns.set_style(\"whitegrid\")\n",
    "sns.regplot(x=[4, 9, 11, 14, 17], y=[6, 7, 11, 9, 13]);"
   ]
  },
  {
   "cell_type": "code",
   "execution_count": null,
   "metadata": {},
   "outputs": [],
   "source": []
  },
  {
   "cell_type": "code",
   "execution_count": null,
   "metadata": {},
   "outputs": [],
   "source": []
  },
  {
   "cell_type": "code",
   "execution_count": null,
   "metadata": {},
   "outputs": [],
   "source": []
  },
  {
   "cell_type": "code",
   "execution_count": null,
   "metadata": {},
   "outputs": [],
   "source": [
    "model_LR_Ridge = Ridge(alpha=100)"
   ]
  },
  {
   "cell_type": "code",
   "execution_count": null,
   "metadata": {},
   "outputs": [],
   "source": []
  },
  {
   "cell_type": "code",
   "execution_count": null,
   "metadata": {},
   "outputs": [],
   "source": [
    "model_LR_RidgeCV(alphas=np.logspace(-6, 6, 13))"
   ]
  },
  {
   "cell_type": "code",
   "execution_count": null,
   "metadata": {},
   "outputs": [],
   "source": []
  },
  {
   "cell_type": "code",
   "execution_count": null,
   "metadata": {},
   "outputs": [],
   "source": []
  }
 ],
 "metadata": {
  "kernelspec": {
   "display_name": "Python 3",
   "language": "python",
   "name": "python3"
  },
  "language_info": {
   "codemirror_mode": {
    "name": "ipython",
    "version": 3
   },
   "file_extension": ".py",
   "mimetype": "text/x-python",
   "name": "python",
   "nbconvert_exporter": "python",
   "pygments_lexer": "ipython3",
   "version": "3.8.2"
  }
 },
 "nbformat": 4,
 "nbformat_minor": 4
}
